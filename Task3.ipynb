{
 "cells": [
  {
   "cell_type": "code",
   "execution_count": 1,
   "metadata": {},
   "outputs": [
    {
     "data": {
      "text/plain": [
       "103"
      ]
     },
     "execution_count": 1,
     "metadata": {},
     "output_type": "execute_result"
    }
   ],
   "source": [
    "#1\n",
    "data = [\n",
    "[13, 25, 23, 34],\n",
    "[45, 32, 44, 47],\n",
    "[12, 33, 23, 95],\n",
    "[13, 53, 34, 35],\n",
    "]\n",
    "\n",
    "def getSum(incomeData):\n",
    "    result = 0\n",
    "    i = 0\n",
    "    for item in incomeData:\n",
    "        result += item[i]\n",
    "        i +=1\n",
    "        \n",
    "    return result\n",
    "\n",
    "getSum(data)   \n",
    "        "
   ]
  },
  {
   "cell_type": "code",
   "execution_count": 2,
   "metadata": {},
   "outputs": [
    {
     "name": "stdout",
     "output_type": "stream",
     "text": [
      "401\n"
     ]
    }
   ],
   "source": [
    "#2\n",
    "data = [1, '5', 'abc', 20, '2']\n",
    "itog = 0\n",
    "\n",
    "def getSum(incomeData):\n",
    "    result = 0\n",
    "    for item in incomeData:\n",
    "        if type(item) == int:\n",
    "            result += item**2    \n",
    "    return result\n",
    "\n",
    "print(getSum(data))   \n"
   ]
  },
  {
   "cell_type": "code",
   "execution_count": 3,
   "metadata": {},
   "outputs": [
    {
     "name": "stdout",
     "output_type": "stream",
     "text": [
      "Датских крон\n"
     ]
    }
   ],
   "source": [
    "#3\n",
    "import requests\n",
    "import json\n",
    "\n",
    "q = requests.get('https://www.cbr-xml-daily.ru/daily_json.js')\n",
    "w = (q.json()).get('Valute')\n",
    "\n",
    "\n",
    "def max_values(dict1):\n",
    "    final_dict = {}\n",
    "    for k,v in dict1.items():\n",
    "        final_dict[v.get('Name')] = v.get('Value')\n",
    "    max_value = max(final_dict.values())\n",
    "    for g,h in final_dict.items():\n",
    "        if h == max_value:\n",
    "            maxxx = g\n",
    "    return maxxx\n",
    "\n",
    "print (max_values(w))"
   ]
  }
 ],
 "metadata": {
  "kernelspec": {
   "display_name": "Python 3",
   "language": "python",
   "name": "python3"
  },
  "language_info": {
   "codemirror_mode": {
    "name": "ipython",
    "version": 3
   },
   "file_extension": ".py",
   "mimetype": "text/x-python",
   "name": "python",
   "nbconvert_exporter": "python",
   "pygments_lexer": "ipython3",
   "version": "3.7.3"
  }
 },
 "nbformat": 4,
 "nbformat_minor": 2
}
